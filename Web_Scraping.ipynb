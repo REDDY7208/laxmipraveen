{
  "nbformat": 4,
  "nbformat_minor": 0,
  "metadata": {
    "colab": {
      "provenance": [],
      "include_colab_link": true
    },
    "kernelspec": {
      "name": "python3",
      "display_name": "Python 3"
    },
    "language_info": {
      "name": "python"
    }
  },
  "cells": [
    {
      "cell_type": "markdown",
      "metadata": {
        "id": "view-in-github",
        "colab_type": "text"
      },
      "source": [
        "<a href=\"https://colab.research.google.com/github/REDDY7208/laxmipraveen/blob/main/Web_Scraping.ipynb\" target=\"_parent\"><img src=\"https://colab.research.google.com/assets/colab-badge.svg\" alt=\"Open In Colab\"/></a>"
      ]
    },
    {
      "cell_type": "markdown",
      "source": [
        "#Web Scraping:\n",
        "## Web scraping is the automated extraction of data from websites, typically facilitated by programming scripts, for various purposes such as data analysis, research, or content aggregation.\n"
      ],
      "metadata": {
        "id": "GK8x1Who8380"
      }
    },
    {
      "cell_type": "markdown",
      "source": [
        "## Basic Needs\n",
        "   1)Python\n",
        "   \n",
        "   2)Text Editor or IDE\n",
        "\n",
        "   3)Requests Library\n",
        "\n",
        "   4)Beautiful Soup\n",
        "   \n",
        "   5)Optional: Selenium"
      ],
      "metadata": {
        "id": "QKV18Fkc-C6B"
      }
    },
    {
      "cell_type": "markdown",
      "source": [
        "##Beautiful Soup:\n",
        "Beautiful Soup is a Python library for parsing HTML and XML documents. It provides functions and methods to navigate and search the parse tree. Install it using pip:"
      ],
      "metadata": {
        "id": "WnbPPSUH-gLY"
      }
    },
    {
      "cell_type": "code",
      "execution_count": null,
      "metadata": {
        "colab": {
          "base_uri": "https://localhost:8080/"
        },
        "id": "hkFsBlh-0Zu-",
        "outputId": "a7206fde-d50b-4070-dec9-6ac898b6d58f"
      },
      "outputs": [
        {
          "output_type": "stream",
          "name": "stdout",
          "text": [
            "Requirement already satisfied: beautifulsoup4 in /usr/local/lib/python3.10/dist-packages (4.12.3)\n",
            "Requirement already satisfied: soupsieve>1.2 in /usr/local/lib/python3.10/dist-packages (from beautifulsoup4) (2.5)\n"
          ]
        }
      ],
      "source": [
        "pip install beautifulsoup4"
      ]
    },
    {
      "cell_type": "markdown",
      "source": [
        "## Requests Library:\n",
        "The requests library is used to make HTTP requests to websites and retrieve HTML content. Install it using pip:"
      ],
      "metadata": {
        "id": "QL1j43LO-rn2"
      }
    },
    {
      "cell_type": "code",
      "source": [
        "import requests"
      ],
      "metadata": {
        "id": "t-gjJOx50e3B"
      },
      "execution_count": null,
      "outputs": []
    },
    {
      "cell_type": "code",
      "source": [
        "url=\"https://quotes.toscrape.com/\""
      ],
      "metadata": {
        "id": "HGJQrYjr0kvX"
      },
      "execution_count": null,
      "outputs": []
    },
    {
      "cell_type": "code",
      "source": [
        "response=requests.get(url)"
      ],
      "metadata": {
        "id": "OZoStz-U1IPi"
      },
      "execution_count": null,
      "outputs": []
    },
    {
      "cell_type": "markdown",
      "source": [
        "## status_code:\n",
        "\n",
        "This is an attribute of the response object. It retrieves the HTTP status code from the response."
      ],
      "metadata": {
        "id": "zgIkhXwn_A6n"
      }
    },
    {
      "cell_type": "code",
      "source": [
        "response.status_code"
      ],
      "metadata": {
        "colab": {
          "base_uri": "https://localhost:8080/"
        },
        "id": "vzWepDYe1NS8",
        "outputId": "04d05e55-b5ad-4c41-a3bf-ca5c6b211d0c"
      },
      "execution_count": null,
      "outputs": [
        {
          "output_type": "execute_result",
          "data": {
            "text/plain": [
              "200"
            ]
          },
          "metadata": {},
          "execution_count": 27
        }
      ]
    },
    {
      "cell_type": "markdown",
      "source": [
        "## HTTP status codes indicate the result of the HTTP request. For example:\n",
        "\n",
        "1)200 means \"OK\", the request was successful.\n",
        "\n",
        "2)404 means \"Not Found\", the requested resource was not found on the server.\n",
        "\n",
        "3)500 means \"Internal Server Error\", there was an error on the server while processing the request."
      ],
      "metadata": {
        "id": "6GZxh2iR_IUW"
      }
    },
    {
      "cell_type": "code",
      "source": [
        "from bs4 import BeautifulSoup"
      ],
      "metadata": {
        "id": "nzPnhuxz1UUQ"
      },
      "execution_count": null,
      "outputs": []
    },
    {
      "cell_type": "code",
      "source": [
        "soup=BeautifulSoup(response.content,'html')"
      ],
      "metadata": {
        "id": "gKQxuPgW1c0z"
      },
      "execution_count": null,
      "outputs": []
    },
    {
      "cell_type": "code",
      "source": [
        "quote=soup.find('span',class_='text')"
      ],
      "metadata": {
        "id": "P9TN74AE1rK6"
      },
      "execution_count": null,
      "outputs": []
    },
    {
      "cell_type": "code",
      "source": [
        "quote.text"
      ],
      "metadata": {
        "colab": {
          "base_uri": "https://localhost:8080/",
          "height": 36
        },
        "id": "2ckizk313G68",
        "outputId": "e27449ff-606c-44ee-f4ce-0db6b09a34e0"
      },
      "execution_count": null,
      "outputs": [
        {
          "output_type": "execute_result",
          "data": {
            "text/plain": [
              "'“The world as we have created it is a process of our thinking. It cannot be changed without changing our thinking.”'"
            ],
            "application/vnd.google.colaboratory.intrinsic+json": {
              "type": "string"
            }
          },
          "metadata": {},
          "execution_count": 31
        }
      ]
    },
    {
      "cell_type": "code",
      "source": [
        "quotes=soup.find_all('span' ,class_='text')"
      ],
      "metadata": {
        "id": "_0jtCU7Z3I_S"
      },
      "execution_count": null,
      "outputs": []
    },
    {
      "cell_type": "code",
      "source": [
        "quotes"
      ],
      "metadata": {
        "colab": {
          "base_uri": "https://localhost:8080/"
        },
        "id": "yjfjqt6l3eP4",
        "outputId": "4faaca74-ee3c-4a20-a198-0024dc41c6d1"
      },
      "execution_count": null,
      "outputs": [
        {
          "output_type": "execute_result",
          "data": {
            "text/plain": [
              "[<span class=\"text\" itemprop=\"text\">“The world as we have created it is a process of our thinking. It cannot be changed without changing our thinking.”</span>,\n",
              " <span class=\"text\" itemprop=\"text\">“It is our choices, Harry, that show what we truly are, far more than our abilities.”</span>,\n",
              " <span class=\"text\" itemprop=\"text\">“There are only two ways to live your life. One is as though nothing is a miracle. The other is as though everything is a miracle.”</span>,\n",
              " <span class=\"text\" itemprop=\"text\">“The person, be it gentleman or lady, who has not pleasure in a good novel, must be intolerably stupid.”</span>,\n",
              " <span class=\"text\" itemprop=\"text\">“Imperfection is beauty, madness is genius and it's better to be absolutely ridiculous than absolutely boring.”</span>,\n",
              " <span class=\"text\" itemprop=\"text\">“Try not to become a man of success. Rather become a man of value.”</span>,\n",
              " <span class=\"text\" itemprop=\"text\">“It is better to be hated for what you are than to be loved for what you are not.”</span>,\n",
              " <span class=\"text\" itemprop=\"text\">“I have not failed. I've just found 10,000 ways that won't work.”</span>,\n",
              " <span class=\"text\" itemprop=\"text\">“A woman is like a tea bag; you never know how strong it is until it's in hot water.”</span>,\n",
              " <span class=\"text\" itemprop=\"text\">“A day without sunshine is like, you know, night.”</span>]"
            ]
          },
          "metadata": {},
          "execution_count": 33
        }
      ]
    },
    {
      "cell_type": "code",
      "source": [
        "quotes=[quote.text[1:-1] for quote in quotes]"
      ],
      "metadata": {
        "id": "7MDMk0ym3mxa"
      },
      "execution_count": null,
      "outputs": []
    },
    {
      "cell_type": "code",
      "source": [
        "quotes"
      ],
      "metadata": {
        "colab": {
          "base_uri": "https://localhost:8080/"
        },
        "id": "f-4JwIVC36Kq",
        "outputId": "08b71550-92ba-4d48-b801-a3f324619a3b"
      },
      "execution_count": null,
      "outputs": [
        {
          "output_type": "execute_result",
          "data": {
            "text/plain": [
              "['The world as we have created it is a process of our thinking. It cannot be changed without changing our thinking.',\n",
              " 'It is our choices, Harry, that show what we truly are, far more than our abilities.',\n",
              " 'There are only two ways to live your life. One is as though nothing is a miracle. The other is as though everything is a miracle.',\n",
              " 'The person, be it gentleman or lady, who has not pleasure in a good novel, must be intolerably stupid.',\n",
              " \"Imperfection is beauty, madness is genius and it's better to be absolutely ridiculous than absolutely boring.\",\n",
              " 'Try not to become a man of success. Rather become a man of value.',\n",
              " 'It is better to be hated for what you are than to be loved for what you are not.',\n",
              " \"I have not failed. I've just found 10,000 ways that won't work.\",\n",
              " \"A woman is like a tea bag; you never know how strong it is until it's in hot water.\",\n",
              " 'A day without sunshine is like, you know, night.']"
            ]
          },
          "metadata": {},
          "execution_count": 35
        }
      ]
    },
    {
      "cell_type": "code",
      "source": [
        "quotes[0][1:-1]"
      ],
      "metadata": {
        "colab": {
          "base_uri": "https://localhost:8080/",
          "height": 36
        },
        "id": "O3js3vqf37iB",
        "outputId": "15505d67-e25d-42a1-f897-91de10a88eb9"
      },
      "execution_count": null,
      "outputs": [
        {
          "output_type": "execute_result",
          "data": {
            "text/plain": [
              "'he world as we have created it is a process of our thinking. It cannot be changed without changing our thinking'"
            ],
            "application/vnd.google.colaboratory.intrinsic+json": {
              "type": "string"
            }
          },
          "metadata": {},
          "execution_count": 49
        }
      ]
    },
    {
      "cell_type": "code",
      "source": [
        "authors=soup.find_all('small',class_=\"author\")"
      ],
      "metadata": {
        "id": "EwTmJNxd4C7u"
      },
      "execution_count": null,
      "outputs": []
    },
    {
      "cell_type": "code",
      "source": [
        "authors"
      ],
      "metadata": {
        "colab": {
          "base_uri": "https://localhost:8080/"
        },
        "id": "2KBhFtrZ5Hcn",
        "outputId": "fe36881a-6c40-4792-9b65-b4e7e6737646"
      },
      "execution_count": null,
      "outputs": [
        {
          "output_type": "execute_result",
          "data": {
            "text/plain": [
              "[<small class=\"author\" itemprop=\"author\">Albert Einstein</small>,\n",
              " <small class=\"author\" itemprop=\"author\">J.K. Rowling</small>,\n",
              " <small class=\"author\" itemprop=\"author\">Albert Einstein</small>,\n",
              " <small class=\"author\" itemprop=\"author\">Jane Austen</small>,\n",
              " <small class=\"author\" itemprop=\"author\">Marilyn Monroe</small>,\n",
              " <small class=\"author\" itemprop=\"author\">Albert Einstein</small>,\n",
              " <small class=\"author\" itemprop=\"author\">André Gide</small>,\n",
              " <small class=\"author\" itemprop=\"author\">Thomas A. Edison</small>,\n",
              " <small class=\"author\" itemprop=\"author\">Eleanor Roosevelt</small>,\n",
              " <small class=\"author\" itemprop=\"author\">Steve Martin</small>]"
            ]
          },
          "metadata": {},
          "execution_count": 38
        }
      ]
    },
    {
      "cell_type": "code",
      "source": [
        "authors=[author.text for author in authors]\n",
        "authors"
      ],
      "metadata": {
        "colab": {
          "base_uri": "https://localhost:8080/"
        },
        "id": "YU1GBPiT5ibH",
        "outputId": "b6affd03-3b5e-4fd4-8d55-3931c17965fb"
      },
      "execution_count": null,
      "outputs": [
        {
          "output_type": "execute_result",
          "data": {
            "text/plain": [
              "['Albert Einstein',\n",
              " 'J.K. Rowling',\n",
              " 'Albert Einstein',\n",
              " 'Jane Austen',\n",
              " 'Marilyn Monroe',\n",
              " 'Albert Einstein',\n",
              " 'André Gide',\n",
              " 'Thomas A. Edison',\n",
              " 'Eleanor Roosevelt',\n",
              " 'Steve Martin']"
            ]
          },
          "metadata": {},
          "execution_count": 39
        }
      ]
    },
    {
      "cell_type": "code",
      "source": [
        "tags=soup.find_all('div',class_='tags')\n",
        "tags"
      ],
      "metadata": {
        "id": "Q2AsIzu_6TkU",
        "colab": {
          "base_uri": "https://localhost:8080/"
        },
        "outputId": "062d25b0-cc63-44bf-a2a8-ff8df64caf8a"
      },
      "execution_count": null,
      "outputs": [
        {
          "output_type": "execute_result",
          "data": {
            "text/plain": [
              "[<div class=\"tags\">\n",
              "             Tags:\n",
              "             <meta class=\"keywords\" content=\"change,deep-thoughts,thinking,world\" itemprop=\"keywords\"/>\n",
              " <a class=\"tag\" href=\"/tag/change/page/1/\">change</a>\n",
              " <a class=\"tag\" href=\"/tag/deep-thoughts/page/1/\">deep-thoughts</a>\n",
              " <a class=\"tag\" href=\"/tag/thinking/page/1/\">thinking</a>\n",
              " <a class=\"tag\" href=\"/tag/world/page/1/\">world</a>\n",
              " </div>,\n",
              " <div class=\"tags\">\n",
              "             Tags:\n",
              "             <meta class=\"keywords\" content=\"abilities,choices\" itemprop=\"keywords\"/>\n",
              " <a class=\"tag\" href=\"/tag/abilities/page/1/\">abilities</a>\n",
              " <a class=\"tag\" href=\"/tag/choices/page/1/\">choices</a>\n",
              " </div>,\n",
              " <div class=\"tags\">\n",
              "             Tags:\n",
              "             <meta class=\"keywords\" content=\"inspirational,life,live,miracle,miracles\" itemprop=\"keywords\"/>\n",
              " <a class=\"tag\" href=\"/tag/inspirational/page/1/\">inspirational</a>\n",
              " <a class=\"tag\" href=\"/tag/life/page/1/\">life</a>\n",
              " <a class=\"tag\" href=\"/tag/live/page/1/\">live</a>\n",
              " <a class=\"tag\" href=\"/tag/miracle/page/1/\">miracle</a>\n",
              " <a class=\"tag\" href=\"/tag/miracles/page/1/\">miracles</a>\n",
              " </div>,\n",
              " <div class=\"tags\">\n",
              "             Tags:\n",
              "             <meta class=\"keywords\" content=\"aliteracy,books,classic,humor\" itemprop=\"keywords\"/>\n",
              " <a class=\"tag\" href=\"/tag/aliteracy/page/1/\">aliteracy</a>\n",
              " <a class=\"tag\" href=\"/tag/books/page/1/\">books</a>\n",
              " <a class=\"tag\" href=\"/tag/classic/page/1/\">classic</a>\n",
              " <a class=\"tag\" href=\"/tag/humor/page/1/\">humor</a>\n",
              " </div>,\n",
              " <div class=\"tags\">\n",
              "             Tags:\n",
              "             <meta class=\"keywords\" content=\"be-yourself,inspirational\" itemprop=\"keywords\"/>\n",
              " <a class=\"tag\" href=\"/tag/be-yourself/page/1/\">be-yourself</a>\n",
              " <a class=\"tag\" href=\"/tag/inspirational/page/1/\">inspirational</a>\n",
              " </div>,\n",
              " <div class=\"tags\">\n",
              "             Tags:\n",
              "             <meta class=\"keywords\" content=\"adulthood,success,value\" itemprop=\"keywords\"/>\n",
              " <a class=\"tag\" href=\"/tag/adulthood/page/1/\">adulthood</a>\n",
              " <a class=\"tag\" href=\"/tag/success/page/1/\">success</a>\n",
              " <a class=\"tag\" href=\"/tag/value/page/1/\">value</a>\n",
              " </div>,\n",
              " <div class=\"tags\">\n",
              "             Tags:\n",
              "             <meta class=\"keywords\" content=\"life,love\" itemprop=\"keywords\"/>\n",
              " <a class=\"tag\" href=\"/tag/life/page/1/\">life</a>\n",
              " <a class=\"tag\" href=\"/tag/love/page/1/\">love</a>\n",
              " </div>,\n",
              " <div class=\"tags\">\n",
              "             Tags:\n",
              "             <meta class=\"keywords\" content=\"edison,failure,inspirational,paraphrased\" itemprop=\"keywords\"/>\n",
              " <a class=\"tag\" href=\"/tag/edison/page/1/\">edison</a>\n",
              " <a class=\"tag\" href=\"/tag/failure/page/1/\">failure</a>\n",
              " <a class=\"tag\" href=\"/tag/inspirational/page/1/\">inspirational</a>\n",
              " <a class=\"tag\" href=\"/tag/paraphrased/page/1/\">paraphrased</a>\n",
              " </div>,\n",
              " <div class=\"tags\">\n",
              "             Tags:\n",
              "             <meta class=\"keywords\" content=\"misattributed-eleanor-roosevelt\" itemprop=\"keywords\"/>\n",
              " <a class=\"tag\" href=\"/tag/misattributed-eleanor-roosevelt/page/1/\">misattributed-eleanor-roosevelt</a>\n",
              " </div>,\n",
              " <div class=\"tags\">\n",
              "             Tags:\n",
              "             <meta class=\"keywords\" content=\"humor,obvious,simile\" itemprop=\"keywords\"/>\n",
              " <a class=\"tag\" href=\"/tag/humor/page/1/\">humor</a>\n",
              " <a class=\"tag\" href=\"/tag/obvious/page/1/\">obvious</a>\n",
              " <a class=\"tag\" href=\"/tag/simile/page/1/\">simile</a>\n",
              " </div>]"
            ]
          },
          "metadata": {},
          "execution_count": 51
        }
      ]
    },
    {
      "cell_type": "code",
      "source": [
        "tags[0]"
      ],
      "metadata": {
        "colab": {
          "base_uri": "https://localhost:8080/"
        },
        "id": "BLPXAXBa6lgt",
        "outputId": "5d6b078c-66bf-4a15-e3dc-9c657f4a04fa"
      },
      "execution_count": null,
      "outputs": [
        {
          "output_type": "execute_result",
          "data": {
            "text/plain": [
              "<div class=\"tags\">\n",
              "            Tags:\n",
              "            <meta class=\"keywords\" content=\"change,deep-thoughts,thinking,world\" itemprop=\"keywords\"/>\n",
              "<a class=\"tag\" href=\"/tag/change/page/1/\">change</a>\n",
              "<a class=\"tag\" href=\"/tag/deep-thoughts/page/1/\">deep-thoughts</a>\n",
              "<a class=\"tag\" href=\"/tag/thinking/page/1/\">thinking</a>\n",
              "<a class=\"tag\" href=\"/tag/world/page/1/\">world</a>\n",
              "</div>"
            ]
          },
          "metadata": {},
          "execution_count": 52
        }
      ]
    },
    {
      "cell_type": "markdown",
      "source": [],
      "metadata": {
        "id": "kanDzUZc69p-"
      }
    },
    {
      "cell_type": "code",
      "source": [
        "for i in tags[0].find_all('a',class_='tag'):\n",
        "  print(i.text)"
      ],
      "metadata": {
        "colab": {
          "base_uri": "https://localhost:8080/"
        },
        "id": "U6Rx7rbs6pbg",
        "outputId": "ce35f5b5-7118-47ba-f9ca-81716d1dbc69"
      },
      "execution_count": null,
      "outputs": [
        {
          "output_type": "stream",
          "name": "stdout",
          "text": [
            "change\n",
            "deep-thoughts\n",
            "thinking\n",
            "world\n"
          ]
        }
      ]
    },
    {
      "cell_type": "code",
      "source": [
        "total_tags=[]\n",
        "\n",
        "for i in range(len(tags)):\n",
        "  k=[]\n",
        "  for j in tags[i].find_all('a',class_='tag'):\n",
        "    k.append(j.text)\n",
        "  total_tags.append(','.join(k))\n",
        "\n"
      ],
      "metadata": {
        "id": "A4qf4Ijp7B8Q"
      },
      "execution_count": null,
      "outputs": []
    },
    {
      "cell_type": "code",
      "source": [
        "total_tags"
      ],
      "metadata": {
        "colab": {
          "base_uri": "https://localhost:8080/"
        },
        "id": "SYhNBxLD7k7F",
        "outputId": "1c9aa5b1-aca2-4853-a938-e6b49443bb6d"
      },
      "execution_count": null,
      "outputs": [
        {
          "output_type": "execute_result",
          "data": {
            "text/plain": [
              "['change,deep-thoughts,thinking,world',\n",
              " 'abilities,choices',\n",
              " 'inspirational,life,live,miracle,miracles',\n",
              " 'aliteracy,books,classic,humor',\n",
              " 'be-yourself,inspirational',\n",
              " 'adulthood,success,value',\n",
              " 'life,love',\n",
              " 'edison,failure,inspirational,paraphrased',\n",
              " 'misattributed-eleanor-roosevelt',\n",
              " 'humor,obvious,simile']"
            ]
          },
          "metadata": {},
          "execution_count": 44
        }
      ]
    },
    {
      "cell_type": "code",
      "source": [
        "import pandas as pd"
      ],
      "metadata": {
        "id": "fCIslSM17pME"
      },
      "execution_count": null,
      "outputs": []
    },
    {
      "cell_type": "code",
      "source": [
        "data=pd.DataFrame()"
      ],
      "metadata": {
        "id": "MXFwyoAQ7uLy"
      },
      "execution_count": null,
      "outputs": []
    },
    {
      "cell_type": "code",
      "source": [
        "data['Qotes']=quotes\n",
        "data['Tags']=total_tags\n",
        "data['author']=authors"
      ],
      "metadata": {
        "id": "NUM8lTZ27yNx"
      },
      "execution_count": null,
      "outputs": []
    },
    {
      "cell_type": "code",
      "source": [
        "data"
      ],
      "metadata": {
        "colab": {
          "base_uri": "https://localhost:8080/",
          "height": 363
        },
        "id": "dee1uCN373iX",
        "outputId": "9f4e79d0-497f-499e-e338-05eadfbb4eb0"
      },
      "execution_count": null,
      "outputs": [
        {
          "output_type": "execute_result",
          "data": {
            "text/plain": [
              "                                               Qotes  \\\n",
              "0  The world as we have created it is a process o...   \n",
              "1  It is our choices, Harry, that show what we tr...   \n",
              "2  There are only two ways to live your life. One...   \n",
              "3  The person, be it gentleman or lady, who has n...   \n",
              "4  Imperfection is beauty, madness is genius and ...   \n",
              "5  Try not to become a man of success. Rather bec...   \n",
              "6  It is better to be hated for what you are than...   \n",
              "7  I have not failed. I've just found 10,000 ways...   \n",
              "8  A woman is like a tea bag; you never know how ...   \n",
              "9   A day without sunshine is like, you know, night.   \n",
              "\n",
              "                                       Tags             author  \n",
              "0       change,deep-thoughts,thinking,world    Albert Einstein  \n",
              "1                         abilities,choices       J.K. Rowling  \n",
              "2  inspirational,life,live,miracle,miracles    Albert Einstein  \n",
              "3             aliteracy,books,classic,humor        Jane Austen  \n",
              "4                 be-yourself,inspirational     Marilyn Monroe  \n",
              "5                   adulthood,success,value    Albert Einstein  \n",
              "6                                 life,love         André Gide  \n",
              "7  edison,failure,inspirational,paraphrased   Thomas A. Edison  \n",
              "8           misattributed-eleanor-roosevelt  Eleanor Roosevelt  \n",
              "9                      humor,obvious,simile       Steve Martin  "
            ],
            "text/html": [
              "\n",
              "  <div id=\"df-c241c057-1c72-4968-b7b2-ed3ea21ac81c\" class=\"colab-df-container\">\n",
              "    <div>\n",
              "<style scoped>\n",
              "    .dataframe tbody tr th:only-of-type {\n",
              "        vertical-align: middle;\n",
              "    }\n",
              "\n",
              "    .dataframe tbody tr th {\n",
              "        vertical-align: top;\n",
              "    }\n",
              "\n",
              "    .dataframe thead th {\n",
              "        text-align: right;\n",
              "    }\n",
              "</style>\n",
              "<table border=\"1\" class=\"dataframe\">\n",
              "  <thead>\n",
              "    <tr style=\"text-align: right;\">\n",
              "      <th></th>\n",
              "      <th>Qotes</th>\n",
              "      <th>Tags</th>\n",
              "      <th>author</th>\n",
              "    </tr>\n",
              "  </thead>\n",
              "  <tbody>\n",
              "    <tr>\n",
              "      <th>0</th>\n",
              "      <td>The world as we have created it is a process o...</td>\n",
              "      <td>change,deep-thoughts,thinking,world</td>\n",
              "      <td>Albert Einstein</td>\n",
              "    </tr>\n",
              "    <tr>\n",
              "      <th>1</th>\n",
              "      <td>It is our choices, Harry, that show what we tr...</td>\n",
              "      <td>abilities,choices</td>\n",
              "      <td>J.K. Rowling</td>\n",
              "    </tr>\n",
              "    <tr>\n",
              "      <th>2</th>\n",
              "      <td>There are only two ways to live your life. One...</td>\n",
              "      <td>inspirational,life,live,miracle,miracles</td>\n",
              "      <td>Albert Einstein</td>\n",
              "    </tr>\n",
              "    <tr>\n",
              "      <th>3</th>\n",
              "      <td>The person, be it gentleman or lady, who has n...</td>\n",
              "      <td>aliteracy,books,classic,humor</td>\n",
              "      <td>Jane Austen</td>\n",
              "    </tr>\n",
              "    <tr>\n",
              "      <th>4</th>\n",
              "      <td>Imperfection is beauty, madness is genius and ...</td>\n",
              "      <td>be-yourself,inspirational</td>\n",
              "      <td>Marilyn Monroe</td>\n",
              "    </tr>\n",
              "    <tr>\n",
              "      <th>5</th>\n",
              "      <td>Try not to become a man of success. Rather bec...</td>\n",
              "      <td>adulthood,success,value</td>\n",
              "      <td>Albert Einstein</td>\n",
              "    </tr>\n",
              "    <tr>\n",
              "      <th>6</th>\n",
              "      <td>It is better to be hated for what you are than...</td>\n",
              "      <td>life,love</td>\n",
              "      <td>André Gide</td>\n",
              "    </tr>\n",
              "    <tr>\n",
              "      <th>7</th>\n",
              "      <td>I have not failed. I've just found 10,000 ways...</td>\n",
              "      <td>edison,failure,inspirational,paraphrased</td>\n",
              "      <td>Thomas A. Edison</td>\n",
              "    </tr>\n",
              "    <tr>\n",
              "      <th>8</th>\n",
              "      <td>A woman is like a tea bag; you never know how ...</td>\n",
              "      <td>misattributed-eleanor-roosevelt</td>\n",
              "      <td>Eleanor Roosevelt</td>\n",
              "    </tr>\n",
              "    <tr>\n",
              "      <th>9</th>\n",
              "      <td>A day without sunshine is like, you know, night.</td>\n",
              "      <td>humor,obvious,simile</td>\n",
              "      <td>Steve Martin</td>\n",
              "    </tr>\n",
              "  </tbody>\n",
              "</table>\n",
              "</div>\n",
              "    <div class=\"colab-df-buttons\">\n",
              "\n",
              "  <div class=\"colab-df-container\">\n",
              "    <button class=\"colab-df-convert\" onclick=\"convertToInteractive('df-c241c057-1c72-4968-b7b2-ed3ea21ac81c')\"\n",
              "            title=\"Convert this dataframe to an interactive table.\"\n",
              "            style=\"display:none;\">\n",
              "\n",
              "  <svg xmlns=\"http://www.w3.org/2000/svg\" height=\"24px\" viewBox=\"0 -960 960 960\">\n",
              "    <path d=\"M120-120v-720h720v720H120Zm60-500h600v-160H180v160Zm220 220h160v-160H400v160Zm0 220h160v-160H400v160ZM180-400h160v-160H180v160Zm440 0h160v-160H620v160ZM180-180h160v-160H180v160Zm440 0h160v-160H620v160Z\"/>\n",
              "  </svg>\n",
              "    </button>\n",
              "\n",
              "  <style>\n",
              "    .colab-df-container {\n",
              "      display:flex;\n",
              "      gap: 12px;\n",
              "    }\n",
              "\n",
              "    .colab-df-convert {\n",
              "      background-color: #E8F0FE;\n",
              "      border: none;\n",
              "      border-radius: 50%;\n",
              "      cursor: pointer;\n",
              "      display: none;\n",
              "      fill: #1967D2;\n",
              "      height: 32px;\n",
              "      padding: 0 0 0 0;\n",
              "      width: 32px;\n",
              "    }\n",
              "\n",
              "    .colab-df-convert:hover {\n",
              "      background-color: #E2EBFA;\n",
              "      box-shadow: 0px 1px 2px rgba(60, 64, 67, 0.3), 0px 1px 3px 1px rgba(60, 64, 67, 0.15);\n",
              "      fill: #174EA6;\n",
              "    }\n",
              "\n",
              "    .colab-df-buttons div {\n",
              "      margin-bottom: 4px;\n",
              "    }\n",
              "\n",
              "    [theme=dark] .colab-df-convert {\n",
              "      background-color: #3B4455;\n",
              "      fill: #D2E3FC;\n",
              "    }\n",
              "\n",
              "    [theme=dark] .colab-df-convert:hover {\n",
              "      background-color: #434B5C;\n",
              "      box-shadow: 0px 1px 3px 1px rgba(0, 0, 0, 0.15);\n",
              "      filter: drop-shadow(0px 1px 2px rgba(0, 0, 0, 0.3));\n",
              "      fill: #FFFFFF;\n",
              "    }\n",
              "  </style>\n",
              "\n",
              "    <script>\n",
              "      const buttonEl =\n",
              "        document.querySelector('#df-c241c057-1c72-4968-b7b2-ed3ea21ac81c button.colab-df-convert');\n",
              "      buttonEl.style.display =\n",
              "        google.colab.kernel.accessAllowed ? 'block' : 'none';\n",
              "\n",
              "      async function convertToInteractive(key) {\n",
              "        const element = document.querySelector('#df-c241c057-1c72-4968-b7b2-ed3ea21ac81c');\n",
              "        const dataTable =\n",
              "          await google.colab.kernel.invokeFunction('convertToInteractive',\n",
              "                                                    [key], {});\n",
              "        if (!dataTable) return;\n",
              "\n",
              "        const docLinkHtml = 'Like what you see? Visit the ' +\n",
              "          '<a target=\"_blank\" href=https://colab.research.google.com/notebooks/data_table.ipynb>data table notebook</a>'\n",
              "          + ' to learn more about interactive tables.';\n",
              "        element.innerHTML = '';\n",
              "        dataTable['output_type'] = 'display_data';\n",
              "        await google.colab.output.renderOutput(dataTable, element);\n",
              "        const docLink = document.createElement('div');\n",
              "        docLink.innerHTML = docLinkHtml;\n",
              "        element.appendChild(docLink);\n",
              "      }\n",
              "    </script>\n",
              "  </div>\n",
              "\n",
              "\n",
              "<div id=\"df-53f65296-bfd2-4829-9f11-0bd147e902d6\">\n",
              "  <button class=\"colab-df-quickchart\" onclick=\"quickchart('df-53f65296-bfd2-4829-9f11-0bd147e902d6')\"\n",
              "            title=\"Suggest charts\"\n",
              "            style=\"display:none;\">\n",
              "\n",
              "<svg xmlns=\"http://www.w3.org/2000/svg\" height=\"24px\"viewBox=\"0 0 24 24\"\n",
              "     width=\"24px\">\n",
              "    <g>\n",
              "        <path d=\"M19 3H5c-1.1 0-2 .9-2 2v14c0 1.1.9 2 2 2h14c1.1 0 2-.9 2-2V5c0-1.1-.9-2-2-2zM9 17H7v-7h2v7zm4 0h-2V7h2v10zm4 0h-2v-4h2v4z\"/>\n",
              "    </g>\n",
              "</svg>\n",
              "  </button>\n",
              "\n",
              "<style>\n",
              "  .colab-df-quickchart {\n",
              "      --bg-color: #E8F0FE;\n",
              "      --fill-color: #1967D2;\n",
              "      --hover-bg-color: #E2EBFA;\n",
              "      --hover-fill-color: #174EA6;\n",
              "      --disabled-fill-color: #AAA;\n",
              "      --disabled-bg-color: #DDD;\n",
              "  }\n",
              "\n",
              "  [theme=dark] .colab-df-quickchart {\n",
              "      --bg-color: #3B4455;\n",
              "      --fill-color: #D2E3FC;\n",
              "      --hover-bg-color: #434B5C;\n",
              "      --hover-fill-color: #FFFFFF;\n",
              "      --disabled-bg-color: #3B4455;\n",
              "      --disabled-fill-color: #666;\n",
              "  }\n",
              "\n",
              "  .colab-df-quickchart {\n",
              "    background-color: var(--bg-color);\n",
              "    border: none;\n",
              "    border-radius: 50%;\n",
              "    cursor: pointer;\n",
              "    display: none;\n",
              "    fill: var(--fill-color);\n",
              "    height: 32px;\n",
              "    padding: 0;\n",
              "    width: 32px;\n",
              "  }\n",
              "\n",
              "  .colab-df-quickchart:hover {\n",
              "    background-color: var(--hover-bg-color);\n",
              "    box-shadow: 0 1px 2px rgba(60, 64, 67, 0.3), 0 1px 3px 1px rgba(60, 64, 67, 0.15);\n",
              "    fill: var(--button-hover-fill-color);\n",
              "  }\n",
              "\n",
              "  .colab-df-quickchart-complete:disabled,\n",
              "  .colab-df-quickchart-complete:disabled:hover {\n",
              "    background-color: var(--disabled-bg-color);\n",
              "    fill: var(--disabled-fill-color);\n",
              "    box-shadow: none;\n",
              "  }\n",
              "\n",
              "  .colab-df-spinner {\n",
              "    border: 2px solid var(--fill-color);\n",
              "    border-color: transparent;\n",
              "    border-bottom-color: var(--fill-color);\n",
              "    animation:\n",
              "      spin 1s steps(1) infinite;\n",
              "  }\n",
              "\n",
              "  @keyframes spin {\n",
              "    0% {\n",
              "      border-color: transparent;\n",
              "      border-bottom-color: var(--fill-color);\n",
              "      border-left-color: var(--fill-color);\n",
              "    }\n",
              "    20% {\n",
              "      border-color: transparent;\n",
              "      border-left-color: var(--fill-color);\n",
              "      border-top-color: var(--fill-color);\n",
              "    }\n",
              "    30% {\n",
              "      border-color: transparent;\n",
              "      border-left-color: var(--fill-color);\n",
              "      border-top-color: var(--fill-color);\n",
              "      border-right-color: var(--fill-color);\n",
              "    }\n",
              "    40% {\n",
              "      border-color: transparent;\n",
              "      border-right-color: var(--fill-color);\n",
              "      border-top-color: var(--fill-color);\n",
              "    }\n",
              "    60% {\n",
              "      border-color: transparent;\n",
              "      border-right-color: var(--fill-color);\n",
              "    }\n",
              "    80% {\n",
              "      border-color: transparent;\n",
              "      border-right-color: var(--fill-color);\n",
              "      border-bottom-color: var(--fill-color);\n",
              "    }\n",
              "    90% {\n",
              "      border-color: transparent;\n",
              "      border-bottom-color: var(--fill-color);\n",
              "    }\n",
              "  }\n",
              "</style>\n",
              "\n",
              "  <script>\n",
              "    async function quickchart(key) {\n",
              "      const quickchartButtonEl =\n",
              "        document.querySelector('#' + key + ' button');\n",
              "      quickchartButtonEl.disabled = true;  // To prevent multiple clicks.\n",
              "      quickchartButtonEl.classList.add('colab-df-spinner');\n",
              "      try {\n",
              "        const charts = await google.colab.kernel.invokeFunction(\n",
              "            'suggestCharts', [key], {});\n",
              "      } catch (error) {\n",
              "        console.error('Error during call to suggestCharts:', error);\n",
              "      }\n",
              "      quickchartButtonEl.classList.remove('colab-df-spinner');\n",
              "      quickchartButtonEl.classList.add('colab-df-quickchart-complete');\n",
              "    }\n",
              "    (() => {\n",
              "      let quickchartButtonEl =\n",
              "        document.querySelector('#df-53f65296-bfd2-4829-9f11-0bd147e902d6 button');\n",
              "      quickchartButtonEl.style.display =\n",
              "        google.colab.kernel.accessAllowed ? 'block' : 'none';\n",
              "    })();\n",
              "  </script>\n",
              "</div>\n",
              "\n",
              "  <div id=\"id_3bb3c8de-8986-4f39-82a2-2a8f18312cc9\">\n",
              "    <style>\n",
              "      .colab-df-generate {\n",
              "        background-color: #E8F0FE;\n",
              "        border: none;\n",
              "        border-radius: 50%;\n",
              "        cursor: pointer;\n",
              "        display: none;\n",
              "        fill: #1967D2;\n",
              "        height: 32px;\n",
              "        padding: 0 0 0 0;\n",
              "        width: 32px;\n",
              "      }\n",
              "\n",
              "      .colab-df-generate:hover {\n",
              "        background-color: #E2EBFA;\n",
              "        box-shadow: 0px 1px 2px rgba(60, 64, 67, 0.3), 0px 1px 3px 1px rgba(60, 64, 67, 0.15);\n",
              "        fill: #174EA6;\n",
              "      }\n",
              "\n",
              "      [theme=dark] .colab-df-generate {\n",
              "        background-color: #3B4455;\n",
              "        fill: #D2E3FC;\n",
              "      }\n",
              "\n",
              "      [theme=dark] .colab-df-generate:hover {\n",
              "        background-color: #434B5C;\n",
              "        box-shadow: 0px 1px 3px 1px rgba(0, 0, 0, 0.15);\n",
              "        filter: drop-shadow(0px 1px 2px rgba(0, 0, 0, 0.3));\n",
              "        fill: #FFFFFF;\n",
              "      }\n",
              "    </style>\n",
              "    <button class=\"colab-df-generate\" onclick=\"generateWithVariable('data')\"\n",
              "            title=\"Generate code using this dataframe.\"\n",
              "            style=\"display:none;\">\n",
              "\n",
              "  <svg xmlns=\"http://www.w3.org/2000/svg\" height=\"24px\"viewBox=\"0 0 24 24\"\n",
              "       width=\"24px\">\n",
              "    <path d=\"M7,19H8.4L18.45,9,17,7.55,7,17.6ZM5,21V16.75L18.45,3.32a2,2,0,0,1,2.83,0l1.4,1.43a1.91,1.91,0,0,1,.58,1.4,1.91,1.91,0,0,1-.58,1.4L9.25,21ZM18.45,9,17,7.55Zm-12,3A5.31,5.31,0,0,0,4.9,8.1,5.31,5.31,0,0,0,1,6.5,5.31,5.31,0,0,0,4.9,4.9,5.31,5.31,0,0,0,6.5,1,5.31,5.31,0,0,0,8.1,4.9,5.31,5.31,0,0,0,12,6.5,5.46,5.46,0,0,0,6.5,12Z\"/>\n",
              "  </svg>\n",
              "    </button>\n",
              "    <script>\n",
              "      (() => {\n",
              "      const buttonEl =\n",
              "        document.querySelector('#id_3bb3c8de-8986-4f39-82a2-2a8f18312cc9 button.colab-df-generate');\n",
              "      buttonEl.style.display =\n",
              "        google.colab.kernel.accessAllowed ? 'block' : 'none';\n",
              "\n",
              "      buttonEl.onclick = () => {\n",
              "        google.colab.notebook.generateWithVariable('data');\n",
              "      }\n",
              "      })();\n",
              "    </script>\n",
              "  </div>\n",
              "\n",
              "    </div>\n",
              "  </div>\n"
            ],
            "application/vnd.google.colaboratory.intrinsic+json": {
              "type": "dataframe",
              "variable_name": "data",
              "summary": "{\n  \"name\": \"data\",\n  \"rows\": 10,\n  \"fields\": [\n    {\n      \"column\": \"Qotes\",\n      \"properties\": {\n        \"dtype\": \"string\",\n        \"num_unique_values\": 10,\n        \"samples\": [\n          \"A woman is like a tea bag; you never know how strong it is until it's in hot water.\",\n          \"It is our choices, Harry, that show what we truly are, far more than our abilities.\",\n          \"Try not to become a man of success. Rather become a man of value.\"\n        ],\n        \"semantic_type\": \"\",\n        \"description\": \"\"\n      }\n    },\n    {\n      \"column\": \"Tags\",\n      \"properties\": {\n        \"dtype\": \"string\",\n        \"num_unique_values\": 10,\n        \"samples\": [\n          \"misattributed-eleanor-roosevelt\",\n          \"abilities,choices\",\n          \"adulthood,success,value\"\n        ],\n        \"semantic_type\": \"\",\n        \"description\": \"\"\n      }\n    },\n    {\n      \"column\": \"author\",\n      \"properties\": {\n        \"dtype\": \"string\",\n        \"num_unique_values\": 8,\n        \"samples\": [\n          \"J.K. Rowling\",\n          \"Thomas A. Edison\",\n          \"Albert Einstein\"\n        ],\n        \"semantic_type\": \"\",\n        \"description\": \"\"\n      }\n    }\n  ]\n}"
            }
          },
          "metadata": {},
          "execution_count": 48
        }
      ]
    },
    {
      "cell_type": "code",
      "source": [],
      "metadata": {
        "id": "rtf9MTLG76ci"
      },
      "execution_count": null,
      "outputs": []
    }
  ]
}